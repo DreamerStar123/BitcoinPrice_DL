{
  "cells": [
    {
      "cell_type": "code",
      "source": [
        "from google.colab import drive\n",
        "drive.mount('/content/drive')"
      ],
      "metadata": {
        "colab": {
          "base_uri": "https://localhost:8080/"
        },
        "id": "-gMEGXc8RPyY",
        "outputId": "b7206696-c205-428c-aba9-b6b94dff0315"
      },
      "execution_count": null,
      "outputs": [
        {
          "output_type": "stream",
          "name": "stdout",
          "text": [
            "Mounted at /content/drive\n"
          ]
        }
      ]
    },
    {
      "cell_type": "code",
      "execution_count": null,
      "metadata": {
        "_cell_guid": "b1076dfc-b9ad-4769-8c92-a6c4dae69d19",
        "_uuid": "8f2839f25d086af736a60e9eeb907d3b93b6e0e5",
        "tags": [],
        "id": "p-jemM6gQ97B"
      },
      "outputs": [],
      "source": [
        "import numpy as np # linear algebra\n",
        "import pandas as pd # data processing, CSV file I/O (e.g. pd.read_csv)\n",
        "import matplotlib.pyplot as plt\n",
        "\n",
        "import warnings\n",
        "warnings.filterwarnings(\"ignore\")\n"
      ]
    },
    {
      "cell_type": "code",
      "execution_count": null,
      "metadata": {
        "_cell_guid": "79c7e3d0-c299-4dcb-8224-4455121ee9b0",
        "_uuid": "d629ff2d2480ee46fbb7e2d37f6b5fab8052498a",
        "tags": [],
        "id": "W2i2-KQFQ97C"
      },
      "outputs": [],
      "source": [
        "bit_data=pd.read_csv(\"/content/drive/MyDrive/DM/bitstampUSD_1-min_data_2012-01-01_to_2019-03-13.csv\")\n",
        "bit_data[\"date\"]=pd.to_datetime(bit_data[\"Timestamp\"],unit=\"s\").dt.date\n",
        "group=bit_data.groupby(\"date\")\n",
        "data=group[\"Close\"].mean()"
      ]
    },
    {
      "cell_type": "code",
      "source": [
        "bit_data.shape"
      ],
      "metadata": {
        "colab": {
          "base_uri": "https://localhost:8080/"
        },
        "id": "DPtkxih-9pBE",
        "outputId": "c2ac5ccf-986f-4c1e-bac1-c31a1f30a6c2"
      },
      "execution_count": null,
      "outputs": [
        {
          "output_type": "execute_result",
          "data": {
            "text/plain": [
              "(3778817, 9)"
            ]
          },
          "metadata": {},
          "execution_count": 6
        }
      ]
    },
    {
      "cell_type": "code",
      "source": [
        "bit_data.tail(10)"
      ],
      "metadata": {
        "colab": {
          "base_uri": "https://localhost:8080/",
          "height": 363
        },
        "id": "GCAHFQej95E0",
        "outputId": "69fcb797-a90d-4e6d-83d1-26d163d919f1"
      },
      "execution_count": null,
      "outputs": [
        {
          "output_type": "execute_result",
          "data": {
            "text/plain": [
              "          Timestamp     Open     High      Low    Close  Volume_(BTC)  \\\n",
              "3778807  1552434660  3857.21  3857.68  3857.21  3857.59      0.542492   \n",
              "3778808  1552434720      NaN      NaN      NaN      NaN           NaN   \n",
              "3778809  1552434780  3857.59  3858.17  3857.59  3858.17      0.297396   \n",
              "3778810  1552434840  3858.17  3858.17  3858.17  3858.17      0.048400   \n",
              "3778811  1552434900  3857.80  3860.09  3857.59  3860.09     20.372100   \n",
              "3778812  1552434960      NaN      NaN      NaN      NaN           NaN   \n",
              "3778813  1552435020      NaN      NaN      NaN      NaN           NaN   \n",
              "3778814  1552435080  3860.09  3861.05  3860.09  3861.05      0.378637   \n",
              "3778815  1552435140  3860.18  3860.18  3859.74  3859.74      1.056403   \n",
              "3778816  1552435200  3861.37  3862.01  3861.37  3861.95      0.198124   \n",
              "\n",
              "         Volume_(Currency)  Weighted_Price        date  \n",
              "3778807        2092.640913     3857.456219  2019-03-12  \n",
              "3778808                NaN             NaN  2019-03-12  \n",
              "3778809        1147.336872     3857.939815  2019-03-12  \n",
              "3778810         186.735428     3858.170000  2019-03-12  \n",
              "3778811       78591.965693     3857.823469  2019-03-12  \n",
              "3778812                NaN             NaN  2019-03-12  \n",
              "3778813                NaN             NaN  2019-03-12  \n",
              "3778814        1461.770077     3860.606378  2019-03-12  \n",
              "3778815        4077.863045     3860.139080  2019-03-12  \n",
              "3778816         765.149137     3861.967464  2019-03-13  "
            ],
            "text/html": [
              "\n",
              "  <div id=\"df-593b5bcc-8845-4729-b96c-58d1a1f93d4e\">\n",
              "    <div class=\"colab-df-container\">\n",
              "      <div>\n",
              "<style scoped>\n",
              "    .dataframe tbody tr th:only-of-type {\n",
              "        vertical-align: middle;\n",
              "    }\n",
              "\n",
              "    .dataframe tbody tr th {\n",
              "        vertical-align: top;\n",
              "    }\n",
              "\n",
              "    .dataframe thead th {\n",
              "        text-align: right;\n",
              "    }\n",
              "</style>\n",
              "<table border=\"1\" class=\"dataframe\">\n",
              "  <thead>\n",
              "    <tr style=\"text-align: right;\">\n",
              "      <th></th>\n",
              "      <th>Timestamp</th>\n",
              "      <th>Open</th>\n",
              "      <th>High</th>\n",
              "      <th>Low</th>\n",
              "      <th>Close</th>\n",
              "      <th>Volume_(BTC)</th>\n",
              "      <th>Volume_(Currency)</th>\n",
              "      <th>Weighted_Price</th>\n",
              "      <th>date</th>\n",
              "    </tr>\n",
              "  </thead>\n",
              "  <tbody>\n",
              "    <tr>\n",
              "      <th>3778807</th>\n",
              "      <td>1552434660</td>\n",
              "      <td>3857.21</td>\n",
              "      <td>3857.68</td>\n",
              "      <td>3857.21</td>\n",
              "      <td>3857.59</td>\n",
              "      <td>0.542492</td>\n",
              "      <td>2092.640913</td>\n",
              "      <td>3857.456219</td>\n",
              "      <td>2019-03-12</td>\n",
              "    </tr>\n",
              "    <tr>\n",
              "      <th>3778808</th>\n",
              "      <td>1552434720</td>\n",
              "      <td>NaN</td>\n",
              "      <td>NaN</td>\n",
              "      <td>NaN</td>\n",
              "      <td>NaN</td>\n",
              "      <td>NaN</td>\n",
              "      <td>NaN</td>\n",
              "      <td>NaN</td>\n",
              "      <td>2019-03-12</td>\n",
              "    </tr>\n",
              "    <tr>\n",
              "      <th>3778809</th>\n",
              "      <td>1552434780</td>\n",
              "      <td>3857.59</td>\n",
              "      <td>3858.17</td>\n",
              "      <td>3857.59</td>\n",
              "      <td>3858.17</td>\n",
              "      <td>0.297396</td>\n",
              "      <td>1147.336872</td>\n",
              "      <td>3857.939815</td>\n",
              "      <td>2019-03-12</td>\n",
              "    </tr>\n",
              "    <tr>\n",
              "      <th>3778810</th>\n",
              "      <td>1552434840</td>\n",
              "      <td>3858.17</td>\n",
              "      <td>3858.17</td>\n",
              "      <td>3858.17</td>\n",
              "      <td>3858.17</td>\n",
              "      <td>0.048400</td>\n",
              "      <td>186.735428</td>\n",
              "      <td>3858.170000</td>\n",
              "      <td>2019-03-12</td>\n",
              "    </tr>\n",
              "    <tr>\n",
              "      <th>3778811</th>\n",
              "      <td>1552434900</td>\n",
              "      <td>3857.80</td>\n",
              "      <td>3860.09</td>\n",
              "      <td>3857.59</td>\n",
              "      <td>3860.09</td>\n",
              "      <td>20.372100</td>\n",
              "      <td>78591.965693</td>\n",
              "      <td>3857.823469</td>\n",
              "      <td>2019-03-12</td>\n",
              "    </tr>\n",
              "    <tr>\n",
              "      <th>3778812</th>\n",
              "      <td>1552434960</td>\n",
              "      <td>NaN</td>\n",
              "      <td>NaN</td>\n",
              "      <td>NaN</td>\n",
              "      <td>NaN</td>\n",
              "      <td>NaN</td>\n",
              "      <td>NaN</td>\n",
              "      <td>NaN</td>\n",
              "      <td>2019-03-12</td>\n",
              "    </tr>\n",
              "    <tr>\n",
              "      <th>3778813</th>\n",
              "      <td>1552435020</td>\n",
              "      <td>NaN</td>\n",
              "      <td>NaN</td>\n",
              "      <td>NaN</td>\n",
              "      <td>NaN</td>\n",
              "      <td>NaN</td>\n",
              "      <td>NaN</td>\n",
              "      <td>NaN</td>\n",
              "      <td>2019-03-12</td>\n",
              "    </tr>\n",
              "    <tr>\n",
              "      <th>3778814</th>\n",
              "      <td>1552435080</td>\n",
              "      <td>3860.09</td>\n",
              "      <td>3861.05</td>\n",
              "      <td>3860.09</td>\n",
              "      <td>3861.05</td>\n",
              "      <td>0.378637</td>\n",
              "      <td>1461.770077</td>\n",
              "      <td>3860.606378</td>\n",
              "      <td>2019-03-12</td>\n",
              "    </tr>\n",
              "    <tr>\n",
              "      <th>3778815</th>\n",
              "      <td>1552435140</td>\n",
              "      <td>3860.18</td>\n",
              "      <td>3860.18</td>\n",
              "      <td>3859.74</td>\n",
              "      <td>3859.74</td>\n",
              "      <td>1.056403</td>\n",
              "      <td>4077.863045</td>\n",
              "      <td>3860.139080</td>\n",
              "      <td>2019-03-12</td>\n",
              "    </tr>\n",
              "    <tr>\n",
              "      <th>3778816</th>\n",
              "      <td>1552435200</td>\n",
              "      <td>3861.37</td>\n",
              "      <td>3862.01</td>\n",
              "      <td>3861.37</td>\n",
              "      <td>3861.95</td>\n",
              "      <td>0.198124</td>\n",
              "      <td>765.149137</td>\n",
              "      <td>3861.967464</td>\n",
              "      <td>2019-03-13</td>\n",
              "    </tr>\n",
              "  </tbody>\n",
              "</table>\n",
              "</div>\n",
              "      <button class=\"colab-df-convert\" onclick=\"convertToInteractive('df-593b5bcc-8845-4729-b96c-58d1a1f93d4e')\"\n",
              "              title=\"Convert this dataframe to an interactive table.\"\n",
              "              style=\"display:none;\">\n",
              "        \n",
              "  <svg xmlns=\"http://www.w3.org/2000/svg\" height=\"24px\"viewBox=\"0 0 24 24\"\n",
              "       width=\"24px\">\n",
              "    <path d=\"M0 0h24v24H0V0z\" fill=\"none\"/>\n",
              "    <path d=\"M18.56 5.44l.94 2.06.94-2.06 2.06-.94-2.06-.94-.94-2.06-.94 2.06-2.06.94zm-11 1L8.5 8.5l.94-2.06 2.06-.94-2.06-.94L8.5 2.5l-.94 2.06-2.06.94zm10 10l.94 2.06.94-2.06 2.06-.94-2.06-.94-.94-2.06-.94 2.06-2.06.94z\"/><path d=\"M17.41 7.96l-1.37-1.37c-.4-.4-.92-.59-1.43-.59-.52 0-1.04.2-1.43.59L10.3 9.45l-7.72 7.72c-.78.78-.78 2.05 0 2.83L4 21.41c.39.39.9.59 1.41.59.51 0 1.02-.2 1.41-.59l7.78-7.78 2.81-2.81c.8-.78.8-2.07 0-2.86zM5.41 20L4 18.59l7.72-7.72 1.47 1.35L5.41 20z\"/>\n",
              "  </svg>\n",
              "      </button>\n",
              "      \n",
              "  <style>\n",
              "    .colab-df-container {\n",
              "      display:flex;\n",
              "      flex-wrap:wrap;\n",
              "      gap: 12px;\n",
              "    }\n",
              "\n",
              "    .colab-df-convert {\n",
              "      background-color: #E8F0FE;\n",
              "      border: none;\n",
              "      border-radius: 50%;\n",
              "      cursor: pointer;\n",
              "      display: none;\n",
              "      fill: #1967D2;\n",
              "      height: 32px;\n",
              "      padding: 0 0 0 0;\n",
              "      width: 32px;\n",
              "    }\n",
              "\n",
              "    .colab-df-convert:hover {\n",
              "      background-color: #E2EBFA;\n",
              "      box-shadow: 0px 1px 2px rgba(60, 64, 67, 0.3), 0px 1px 3px 1px rgba(60, 64, 67, 0.15);\n",
              "      fill: #174EA6;\n",
              "    }\n",
              "\n",
              "    [theme=dark] .colab-df-convert {\n",
              "      background-color: #3B4455;\n",
              "      fill: #D2E3FC;\n",
              "    }\n",
              "\n",
              "    [theme=dark] .colab-df-convert:hover {\n",
              "      background-color: #434B5C;\n",
              "      box-shadow: 0px 1px 3px 1px rgba(0, 0, 0, 0.15);\n",
              "      filter: drop-shadow(0px 1px 2px rgba(0, 0, 0, 0.3));\n",
              "      fill: #FFFFFF;\n",
              "    }\n",
              "  </style>\n",
              "\n",
              "      <script>\n",
              "        const buttonEl =\n",
              "          document.querySelector('#df-593b5bcc-8845-4729-b96c-58d1a1f93d4e button.colab-df-convert');\n",
              "        buttonEl.style.display =\n",
              "          google.colab.kernel.accessAllowed ? 'block' : 'none';\n",
              "\n",
              "        async function convertToInteractive(key) {\n",
              "          const element = document.querySelector('#df-593b5bcc-8845-4729-b96c-58d1a1f93d4e');\n",
              "          const dataTable =\n",
              "            await google.colab.kernel.invokeFunction('convertToInteractive',\n",
              "                                                     [key], {});\n",
              "          if (!dataTable) return;\n",
              "\n",
              "          const docLinkHtml = 'Like what you see? Visit the ' +\n",
              "            '<a target=\"_blank\" href=https://colab.research.google.com/notebooks/data_table.ipynb>data table notebook</a>'\n",
              "            + ' to learn more about interactive tables.';\n",
              "          element.innerHTML = '';\n",
              "          dataTable['output_type'] = 'display_data';\n",
              "          await google.colab.output.renderOutput(dataTable, element);\n",
              "          const docLink = document.createElement('div');\n",
              "          docLink.innerHTML = docLinkHtml;\n",
              "          element.appendChild(docLink);\n",
              "        }\n",
              "      </script>\n",
              "    </div>\n",
              "  </div>\n",
              "  "
            ]
          },
          "metadata": {},
          "execution_count": 7
        }
      ]
    },
    {
      "cell_type": "markdown",
      "metadata": {
        "_uuid": "fcb79be1ca66fff1bb9186622afafa3ff1976d76",
        "id": "IbEM0ABKQ97D"
      },
      "source": [
        "What I did here? I added a colum which is \"date\" and I converted \"Timestamp\" columns to date form."
      ]
    },
    {
      "cell_type": "code",
      "execution_count": null,
      "metadata": {
        "_uuid": "1a5deff671724737f5cf6563da1f9bcc383fea29",
        "colab": {
          "base_uri": "https://localhost:8080/"
        },
        "id": "BQANID3PQ97D",
        "outputId": "13173119-cddf-446e-e9d4-34a41c2963bd"
      },
      "outputs": [
        {
          "output_type": "execute_result",
          "data": {
            "text/plain": [
              "(2627,)"
            ]
          },
          "metadata": {},
          "execution_count": 8
        }
      ],
      "source": [
        "data.shape"
      ]
    },
    {
      "cell_type": "code",
      "execution_count": null,
      "metadata": {
        "_uuid": "ef6c5d1afd2e2ad8f8db6502d6ab19dd5536f4df",
        "colab": {
          "base_uri": "https://localhost:8080/"
        },
        "id": "az6cqi_2Q97D",
        "outputId": "e5df6dbd-7db7-46b0-b76b-76668170c8f7"
      },
      "outputs": [
        {
          "output_type": "execute_result",
          "data": {
            "text/plain": [
              "0"
            ]
          },
          "metadata": {},
          "execution_count": 9
        }
      ],
      "source": [
        "data.isnull().sum()"
      ]
    },
    {
      "cell_type": "markdown",
      "metadata": {
        "_uuid": "05cc03451f03406b8c1138bee571ada74a1de08b",
        "id": "X-iY1S8OQ97E"
      },
      "source": [
        "The goal is making a prediction of daily Close data. So we will predict \"close\" values of bitcoin data"
      ]
    },
    {
      "cell_type": "markdown",
      "metadata": {
        "_uuid": "34da6f362adbd1c072fa82e4b10818fa79f8f2cb",
        "id": "XxCZBA2oQ97F"
      },
      "source": [
        "**First I will use RNN to predict our data**"
      ]
    },
    {
      "cell_type": "markdown",
      "metadata": {
        "_uuid": "a41a90996c44e924ec017ff19af7fe892a51ede0",
        "id": "Oqvni3ibQ97F"
      },
      "source": [
        "I am separating last 50 rows as the test data."
      ]
    },
    {
      "cell_type": "code",
      "execution_count": null,
      "metadata": {
        "_uuid": "757a234889f2a67e648db4273c4a4c4db74d803a",
        "id": "MZhTZBYrQ97F"
      },
      "outputs": [],
      "source": [
        "close_train=data.iloc[:len(data)-50]\n",
        "close_test=data.iloc[len(close_train):]"
      ]
    },
    {
      "cell_type": "code",
      "source": [],
      "metadata": {
        "id": "8sgwIVHViGqF"
      },
      "execution_count": null,
      "outputs": []
    },
    {
      "cell_type": "markdown",
      "metadata": {
        "_uuid": "73b47c588fa00f144c1a87c335d0babe45918a10",
        "id": "YDGG1ZjSQ97F"
      },
      "source": [
        "Here I will set our values between 0-1 in order to avoid domination of high values."
      ]
    },
    {
      "cell_type": "code",
      "execution_count": null,
      "metadata": {
        "_uuid": "d30f46e2cdcaa483eb9bce041ba08a898cdd1533",
        "id": "LUcSO5lbQ97G"
      },
      "outputs": [],
      "source": [
        "#feature scalling (set values between 0-1)\n",
        "close_train=np.array(close_train)\n",
        "close_train=close_train.reshape(close_train.shape[0],1)\n",
        "from sklearn.preprocessing import MinMaxScaler\n",
        "scaler=MinMaxScaler(feature_range=(0,1))\n",
        "close_scaled=scaler.fit_transform(close_train)"
      ]
    },
    {
      "cell_type": "markdown",
      "metadata": {
        "_uuid": "ac63ba26bca53cf1f5df75c31d3dc6268f27eaeb",
        "id": "D40vZNzoQ97G"
      },
      "source": [
        "Let's choose each 50 data as x-train and 51th as y-train"
      ]
    },
    {
      "cell_type": "code",
      "execution_count": null,
      "metadata": {
        "_uuid": "7874ac0b39a80e5d013d4c9cdc19f59c93d0440a",
        "scrolled": true,
        "colab": {
          "base_uri": "https://localhost:8080/"
        },
        "id": "ZqzOOnvNQ97G",
        "outputId": "4e6f7985-7a1d-43a6-d8b2-bf66f8fa4d9f"
      },
      "outputs": [
        {
          "output_type": "stream",
          "name": "stdout",
          "text": [
            "x_train shape=  (2527, 50, 1)\n",
            "y_train shape=  (2527,)\n"
          ]
        }
      ],
      "source": [
        "timestep=50\n",
        "x_train=[]\n",
        "y_train=[]\n",
        "\n",
        "for i in range(timestep,close_scaled.shape[0]):\n",
        "    x_train.append(close_scaled[i-timestep:i,0])\n",
        "    y_train.append(close_scaled[i,0])\n",
        "\n",
        "x_train,y_train=np.array(x_train),np.array(y_train)\n",
        "x_train=x_train.reshape(x_train.shape[0],x_train.shape[1],1) #reshaped for RNN\n",
        "print(\"x_train shape= \",x_train.shape)\n",
        "print(\"y_train shape= \",y_train.shape)"
      ]
    },
    {
      "cell_type": "markdown",
      "metadata": {
        "_uuid": "246a5606d4768110cd8c56ece1b93ff0d3c1a9fa",
        "id": "SOpC1_rSQ97G"
      },
      "source": [
        "Time to prepare and run our RNN method"
      ]
    },
    {
      "cell_type": "code",
      "execution_count": null,
      "metadata": {
        "_kg_hide-output": true,
        "_uuid": "95e9302fe14e8af6e55d3c32775ba8e266b839cd",
        "colab": {
          "base_uri": "https://localhost:8080/"
        },
        "id": "PpE0OsBBQ97G",
        "outputId": "91455482-b1b3-4e0c-c28d-8af95e73eb0f"
      },
      "outputs": [
        {
          "output_type": "stream",
          "name": "stdout",
          "text": [
            "Epoch 1/20\n",
            "40/40 [==============================] - 28s 588ms/step - loss: 0.0059\n",
            "Epoch 2/20\n",
            "40/40 [==============================] - 25s 624ms/step - loss: 0.0021\n",
            "Epoch 3/20\n",
            "40/40 [==============================] - 23s 575ms/step - loss: 0.0019\n",
            "Epoch 4/20\n",
            "40/40 [==============================] - 23s 571ms/step - loss: 0.0016\n",
            "Epoch 5/20\n",
            "40/40 [==============================] - 23s 576ms/step - loss: 0.0012\n",
            "Epoch 6/20\n",
            "40/40 [==============================] - 25s 617ms/step - loss: 0.0012\n",
            "Epoch 7/20\n",
            "40/40 [==============================] - 23s 576ms/step - loss: 8.4125e-04\n",
            "Epoch 8/20\n",
            "40/40 [==============================] - 23s 577ms/step - loss: 7.1981e-04\n",
            "Epoch 9/20\n",
            "40/40 [==============================] - 23s 575ms/step - loss: 9.9456e-04\n",
            "Epoch 10/20\n",
            "40/40 [==============================] - 23s 575ms/step - loss: 7.5028e-04\n",
            "Epoch 11/20\n",
            "40/40 [==============================] - 23s 579ms/step - loss: 0.0011\n",
            "Epoch 12/20\n",
            "40/40 [==============================] - 23s 574ms/step - loss: 6.9982e-04\n",
            "Epoch 13/20\n",
            "40/40 [==============================] - 23s 580ms/step - loss: 6.4064e-04\n",
            "Epoch 14/20\n",
            "40/40 [==============================] - 23s 578ms/step - loss: 6.4777e-04\n",
            "Epoch 15/20\n",
            "40/40 [==============================] - 23s 576ms/step - loss: 6.2505e-04\n",
            "Epoch 16/20\n",
            "40/40 [==============================] - 25s 626ms/step - loss: 6.5694e-04\n",
            "Epoch 17/20\n",
            "40/40 [==============================] - 23s 576ms/step - loss: 8.3460e-04\n",
            "Epoch 18/20\n",
            "40/40 [==============================] - 23s 576ms/step - loss: 4.9730e-04\n",
            "Epoch 19/20\n",
            "40/40 [==============================] - 23s 573ms/step - loss: 4.8980e-04\n",
            "Epoch 20/20\n",
            "40/40 [==============================] - 23s 572ms/step - loss: 6.6428e-04\n"
          ]
        },
        {
          "output_type": "execute_result",
          "data": {
            "text/plain": [
              "<keras.callbacks.History at 0x7fda07704a10>"
            ]
          },
          "metadata": {},
          "execution_count": 13
        }
      ],
      "source": [
        "from keras.models import Sequential\n",
        "from keras.layers import Dense, SimpleRNN, Dropout,Flatten\n",
        "\n",
        "regressor=Sequential()\n",
        "#first RNN layer\n",
        "regressor.add(SimpleRNN(128,activation=\"relu\",return_sequences=True,input_shape=(x_train.shape[1],1)))\n",
        "regressor.add(Dropout(0.25))\n",
        "#second RNN layer\n",
        "regressor.add(SimpleRNN(256,activation=\"relu\",return_sequences=True))\n",
        "regressor.add(Dropout(0.25))\n",
        "#third RNN layer\n",
        "regressor.add(SimpleRNN(512,activation=\"relu\",return_sequences=True))\n",
        "regressor.add(Dropout(0.35))\n",
        "#fourth RNN layer\n",
        "regressor.add(SimpleRNN(256,activation=\"relu\",return_sequences=True))\n",
        "regressor.add(Dropout(0.25))\n",
        "#fifth RNN layer\n",
        "regressor.add(SimpleRNN(128,activation=\"relu\",return_sequences=True))\n",
        "regressor.add(Dropout(0.25))\n",
        "#convert the matrix to 1-line\n",
        "regressor.add(Flatten())\n",
        "#output layer\n",
        "regressor.add(Dense(1))\n",
        "\n",
        "regressor.compile(optimizer=\"adam\",loss=\"mean_squared_error\")\n",
        "regressor.fit(x_train,y_train,epochs=20,batch_size=64)"
      ]
    },
    {
      "cell_type": "markdown",
      "metadata": {
        "_uuid": "0d1786f25bf66d0e666d23252377b5bff9196a70",
        "id": "1rhj-bPTQ97H"
      },
      "source": [
        "Now we are preparing our test data for prediction"
      ]
    },
    {
      "cell_type": "code",
      "execution_count": null,
      "metadata": {
        "_uuid": "789694f60ef54c6fe588978c7917c05f140f501e",
        "id": "IOALs8j6Q97H"
      },
      "outputs": [],
      "source": [
        "inputs=data[len(data)-len(close_test)-timestep:]\n",
        "inputs=inputs.values.reshape(-1,1)\n",
        "inputs=scaler.transform(inputs)"
      ]
    },
    {
      "cell_type": "code",
      "execution_count": null,
      "metadata": {
        "_uuid": "b64f25de4f2c3d3e97ff67430e63b730808fb29b",
        "id": "u4I-SOzcQ97H"
      },
      "outputs": [],
      "source": [
        "x_test=[]\n",
        "for i in range(timestep,inputs.shape[0]):\n",
        "    x_test.append(inputs[i-timestep:i,0])\n",
        "x_test=np.array(x_test)\n",
        "x_test=x_test.reshape(x_test.shape[0],x_test.shape[1],1)"
      ]
    },
    {
      "cell_type": "code",
      "execution_count": null,
      "metadata": {
        "_uuid": "ab9b3f5f19e8cdb8b6fa1be54e710fba4b4281dd",
        "id": "aWzkZIXlQ97H",
        "colab": {
          "base_uri": "https://localhost:8080/"
        },
        "outputId": "85264bba-6894-43ff-9728-d547215a4428"
      },
      "outputs": [
        {
          "output_type": "stream",
          "name": "stdout",
          "text": [
            "2/2 [==============================] - 1s 55ms/step\n"
          ]
        }
      ],
      "source": [
        "predicted_data=regressor.predict(x_test)\n",
        "predicted_data=scaler.inverse_transform(predicted_data)"
      ]
    },
    {
      "cell_type": "markdown",
      "metadata": {
        "_uuid": "84126a12f90fb2bea6a543dfea7c9225216bca32",
        "id": "A6xLULK0Q97H"
      },
      "source": [
        "**What did we do???? We learnt our model with train data and then we tried to predict next 50 data (train data=50). Then we compared predictions with our test (real) data.**"
      ]
    },
    {
      "cell_type": "code",
      "execution_count": null,
      "metadata": {
        "_uuid": "e37a1a9195ba81668ee00aa47b98bda8a2e549c2",
        "id": "-hEWJxyJQ97I"
      },
      "outputs": [],
      "source": [
        "data_test=np.array(close_test)\n",
        "data_test=data_test.reshape(len(data_test),1)"
      ]
    },
    {
      "cell_type": "code",
      "execution_count": null,
      "metadata": {
        "_uuid": "d14bd8d6dc5dea3a2cd0b807652f41d9a34a28d1",
        "scrolled": true,
        "colab": {
          "base_uri": "https://localhost:8080/",
          "height": 306
        },
        "id": "Slx9MA9SQ97I",
        "outputId": "bb11eae3-fb6a-4ee9-eeaf-0057270d096c"
      },
      "outputs": [
        {
          "output_type": "display_data",
          "data": {
            "text/plain": [
              "<Figure size 640x320 with 1 Axes>"
            ],
            "image/png": "[encoded data removed]"
          },
          "metadata": {}
        }
      ],
      "source": [
        "plt.figure(figsize=(8,4), dpi=80, facecolor='w', edgecolor='k')\n",
        "plt.plot(data_test,color=\"r\",label=\"true result\")\n",
        "plt.plot(predicted_data,color=\"b\",label=\"predicted result\")\n",
        "plt.legend()\n",
        "plt.xlabel(\"Time(50 days)\")\n",
        "plt.ylabel(\"Close Values\")\n",
        "plt.grid(True)\n",
        "plt.show()"
      ]
    },
    {
      "cell_type": "markdown",
      "metadata": {
        "_uuid": "d6a9163de2304f9bceb4e4d3337ae7347a1c1144",
        "id": "PB1rwiA0Q97I"
      },
      "source": [
        "Here we have the results of our prediction. As we can see on the chart that with RNN method we don't have a good result. So let's check LSTM method, then we can compare both results."
      ]
    },
    {
      "cell_type": "markdown",
      "metadata": {
        "_uuid": "a86a7a09336182de5b84b8fd747c47216090f712",
        "id": "iZjp0KkQQ97I"
      },
      "source": [
        "**Keep going with LSTM method**"
      ]
    },
    {
      "cell_type": "markdown",
      "metadata": {
        "_uuid": "6fbf6c5708d1ffba850644a767a33192fdd2cdd7",
        "id": "ICMPcVn0Q97I"
      },
      "source": [
        "I will use the same train and test data"
      ]
    },
    {
      "cell_type": "code",
      "execution_count": null,
      "metadata": {
        "_kg_hide-output": true,
        "_uuid": "6b20a92dc41d1e62aaea366a4d0c96afe0dab1e3",
        "colab": {
          "base_uri": "https://localhost:8080/"
        },
        "id": "sFfYp7rcQ97I",
        "outputId": "7f33705b-8790-4982-f632-a289c48196bb"
      },
      "outputs": [
        {
          "output_type": "stream",
          "name": "stdout",
          "text": [
            "Epoch 1/60\n",
            "79/79 [==============================] - 3s 17ms/step - loss: 0.0055\n",
            "Epoch 2/60\n",
            "79/79 [==============================] - 1s 17ms/step - loss: 4.8617e-04\n",
            "Epoch 3/60\n",
            "79/79 [==============================] - 1s 17ms/step - loss: 3.5540e-04\n",
            "Epoch 4/60\n",
            "79/79 [==============================] - 1s 18ms/step - loss: 3.2127e-04\n",
            "Epoch 5/60\n",
            "79/79 [==============================] - 1s 17ms/step - loss: 2.8552e-04\n",
            "Epoch 6/60\n",
            "79/79 [==============================] - 1s 17ms/step - loss: 2.7023e-04\n",
            "Epoch 7/60\n",
            "79/79 [==============================] - 1s 17ms/step - loss: 2.6740e-04\n",
            "Epoch 8/60\n",
            "79/79 [==============================] - 1s 17ms/step - loss: 2.5090e-04\n",
            "Epoch 9/60\n",
            "79/79 [==============================] - 1s 17ms/step - loss: 2.4067e-04\n",
            "Epoch 10/60\n",
            "79/79 [==============================] - 1s 17ms/step - loss: 2.3961e-04\n",
            "Epoch 11/60\n",
            "79/79 [==============================] - 1s 17ms/step - loss: 2.1905e-04\n",
            "Epoch 12/60\n",
            "79/79 [==============================] - 1s 17ms/step - loss: 2.2599e-04\n",
            "Epoch 13/60\n",
            "79/79 [==============================] - 1s 17ms/step - loss: 2.2292e-04\n",
            "Epoch 14/60\n",
            "79/79 [==============================] - 1s 17ms/step - loss: 2.1703e-04\n",
            "Epoch 15/60\n",
            "79/79 [==============================] - 1s 17ms/step - loss: 2.1417e-04\n",
            "Epoch 16/60\n",
            "79/79 [==============================] - 1s 17ms/step - loss: 2.1681e-04\n",
            "Epoch 17/60\n",
            "79/79 [==============================] - 1s 17ms/step - loss: 1.9280e-04\n",
            "Epoch 18/60\n",
            "79/79 [==============================] - 1s 17ms/step - loss: 1.8768e-04\n",
            "Epoch 19/60\n",
            "79/79 [==============================] - 1s 17ms/step - loss: 1.8904e-04\n",
            "Epoch 20/60\n",
            "79/79 [==============================] - 1s 17ms/step - loss: 1.8766e-04\n",
            "Epoch 21/60\n",
            "79/79 [==============================] - 1s 17ms/step - loss: 1.8446e-04\n",
            "Epoch 22/60\n",
            "79/79 [==============================] - 1s 18ms/step - loss: 1.7904e-04\n",
            "Epoch 23/60\n",
            "79/79 [==============================] - 1s 17ms/step - loss: 1.8992e-04\n",
            "Epoch 24/60\n",
            "79/79 [==============================] - 1s 17ms/step - loss: 1.8268e-04\n",
            "Epoch 25/60\n",
            "79/79 [==============================] - 1s 18ms/step - loss: 1.7371e-04\n",
            "Epoch 26/60\n",
            "79/79 [==============================] - 1s 17ms/step - loss: 1.7299e-04\n",
            "Epoch 27/60\n",
            "79/79 [==============================] - 1s 17ms/step - loss: 1.6499e-04\n",
            "Epoch 28/60\n",
            "79/79 [==============================] - 1s 18ms/step - loss: 1.6223e-04\n",
            "Epoch 29/60\n",
            "79/79 [==============================] - 1s 18ms/step - loss: 1.7100e-04\n",
            "Epoch 30/60\n",
            "79/79 [==============================] - 1s 18ms/step - loss: 1.6197e-04\n",
            "Epoch 31/60\n",
            "79/79 [==============================] - 1s 17ms/step - loss: 1.5909e-04\n",
            "Epoch 32/60\n",
            "79/79 [==============================] - 1s 17ms/step - loss: 1.6107e-04\n",
            "Epoch 33/60\n",
            "79/79 [==============================] - 1s 17ms/step - loss: 1.5250e-04\n",
            "Epoch 34/60\n",
            "79/79 [==============================] - 1s 17ms/step - loss: 1.5479e-04\n",
            "Epoch 35/60\n",
            "79/79 [==============================] - 1s 17ms/step - loss: 1.4995e-04\n",
            "Epoch 36/60\n",
            "79/79 [==============================] - 1s 17ms/step - loss: 1.5635e-04\n",
            "Epoch 37/60\n",
            "79/79 [==============================] - 1s 17ms/step - loss: 1.4778e-04\n",
            "Epoch 38/60\n",
            "79/79 [==============================] - 1s 16ms/step - loss: 1.4955e-04\n",
            "Epoch 39/60\n",
            "79/79 [==============================] - 1s 17ms/step - loss: 1.6564e-04\n",
            "Epoch 40/60\n",
            "79/79 [==============================] - 1s 17ms/step - loss: 1.6005e-04\n",
            "Epoch 41/60\n",
            "79/79 [==============================] - 1s 17ms/step - loss: 1.3812e-04\n",
            "Epoch 42/60\n",
            "79/79 [==============================] - 1s 17ms/step - loss: 1.4663e-04\n",
            "Epoch 43/60\n",
            "79/79 [==============================] - 1s 17ms/step - loss: 1.4340e-04\n",
            "Epoch 44/60\n",
            "79/79 [==============================] - 1s 18ms/step - loss: 1.4287e-04\n",
            "Epoch 45/60\n",
            "79/79 [==============================] - 1s 17ms/step - loss: 1.4241e-04\n",
            "Epoch 46/60\n",
            "79/79 [==============================] - 1s 17ms/step - loss: 1.3303e-04\n",
            "Epoch 47/60\n",
            "79/79 [==============================] - 1s 17ms/step - loss: 1.4240e-04\n",
            "Epoch 48/60\n",
            "79/79 [==============================] - 1s 17ms/step - loss: 1.2828e-04\n",
            "Epoch 49/60\n",
            "79/79 [==============================] - 1s 17ms/step - loss: 1.2782e-04\n",
            "Epoch 50/60\n",
            "79/79 [==============================] - 1s 17ms/step - loss: 1.3885e-04\n",
            "Epoch 51/60\n",
            "79/79 [==============================] - 1s 17ms/step - loss: 1.3482e-04\n",
            "Epoch 52/60\n",
            "79/79 [==============================] - 1s 17ms/step - loss: 1.2371e-04\n",
            "Epoch 53/60\n",
            "79/79 [==============================] - 1s 17ms/step - loss: 1.3849e-04\n",
            "Epoch 54/60\n",
            "79/79 [==============================] - 1s 18ms/step - loss: 1.2825e-04\n",
            "Epoch 55/60\n",
            "79/79 [==============================] - 1s 18ms/step - loss: 1.2832e-04\n",
            "Epoch 56/60\n",
            "79/79 [==============================] - 1s 17ms/step - loss: 1.2628e-04\n",
            "Epoch 57/60\n",
            "79/79 [==============================] - 1s 18ms/step - loss: 1.2038e-04\n",
            "Epoch 58/60\n",
            "79/79 [==============================] - 1s 17ms/step - loss: 1.2151e-04\n",
            "Epoch 59/60\n",
            "79/79 [==============================] - 1s 17ms/step - loss: 1.1580e-04\n",
            "Epoch 60/60\n",
            "79/79 [==============================] - 1s 17ms/step - loss: 1.1514e-04\n"
          ]
        },
        {
          "output_type": "execute_result",
          "data": {
            "text/plain": [
              "<keras.callbacks.History at 0x7fda04597810>"
            ]
          },
          "metadata": {},
          "execution_count": 19
        }
      ],
      "source": [
        "from sklearn.metrics import mean_absolute_error\n",
        "from keras.models import Sequential\n",
        "from keras.layers import Dense, LSTM, Dropout,Flatten\n",
        "\n",
        "model=Sequential()\n",
        "\n",
        "model.add(LSTM(10,input_shape=(None,1),activation=\"relu\"))\n",
        "\n",
        "model.add(Dense(1))\n",
        "\n",
        "model.compile(loss=\"mean_squared_error\",optimizer=\"adam\")\n",
        "\n",
        "model.fit(x_train,y_train,epochs=60,batch_size=32)"
      ]
    },
    {
      "cell_type": "markdown",
      "metadata": {
        "_uuid": "add16d8c9ba53ae8abccfb8e46f33c6586e0ca65",
        "id": "yx1XFlXGQ97I"
      },
      "source": [
        "Keep going with test data"
      ]
    },
    {
      "cell_type": "code",
      "execution_count": null,
      "metadata": {
        "_uuid": "3565fca8454345628ef64e3c04478463fca1ff74",
        "id": "J--BIpJ1Q97I"
      },
      "outputs": [],
      "source": [
        "inputs=data[len(data)-len(close_test)-timestep:]\n",
        "inputs=inputs.values.reshape(-1,1)\n",
        "inputs=scaler.transform(inputs)"
      ]
    },
    {
      "cell_type": "code",
      "execution_count": null,
      "metadata": {
        "_uuid": "46cde05f13fb1ca04c2d0c980d1644d975dd3870",
        "id": "k_b72u51Q97J"
      },
      "outputs": [],
      "source": [
        "x_test=[]\n",
        "for i in range(timestep,inputs.shape[0]):\n",
        "    x_test.append(inputs[i-timestep:i,0])\n",
        "x_test=np.array(x_test)\n",
        "x_test=x_test.reshape(x_test.shape[0],x_test.shape[1],1)"
      ]
    },
    {
      "cell_type": "markdown",
      "metadata": {
        "_uuid": "62794ffaa6a6b6bc64232424c03436edbb7b6825",
        "id": "kT57TqfrQ97J"
      },
      "source": [
        "it's time to predict"
      ]
    },
    {
      "cell_type": "code",
      "execution_count": null,
      "metadata": {
        "_uuid": "a837c6f9642fba4332ec63e89f99d2a876f6ea3f",
        "id": "uvAG7sZKQ97J",
        "colab": {
          "base_uri": "https://localhost:8080/"
        },
        "outputId": "589089cc-4a4a-4626-9471-1c7283056975"
      },
      "outputs": [
        {
          "output_type": "stream",
          "name": "stdout",
          "text": [
            "2/2 [==============================] - 0s 9ms/step\n"
          ]
        }
      ],
      "source": [
        "predicted_data=model.predict(x_test)\n",
        "predicted_data=scaler.inverse_transform(predicted_data)"
      ]
    },
    {
      "cell_type": "code",
      "execution_count": null,
      "metadata": {
        "_uuid": "7111f36c85adace9f4d965d6dbe9fc4cf344139b",
        "id": "zrjBXSjxQ97J"
      },
      "outputs": [],
      "source": [
        "data_test=np.array(close_test)\n",
        "data_test=data_test.reshape(len(data_test),1)"
      ]
    },
    {
      "cell_type": "code",
      "execution_count": null,
      "metadata": {
        "_uuid": "fa7d96f41874e8d3207f30ddb50e0b9c658e759a",
        "colab": {
          "base_uri": "https://localhost:8080/",
          "height": 306
        },
        "id": "HCGQee2BQ97J",
        "outputId": "aa804ddb-a5f1-4859-9fef-61ad918ffd33"
      },
      "outputs": [
        {
          "output_type": "display_data",
          "data": {
            "text/plain": [
              "<Figure size 640x320 with 1 Axes>"
            ],
            "image/png": "[encoded data removed]"
          },
          "metadata": {}
        }
      ],
      "source": [
        "plt.figure(figsize=(8,4), dpi=80, facecolor='w', edgecolor='k')\n",
        "plt.plot(data_test,color=\"r\",label=\"true result\")\n",
        "plt.plot(predicted_data,color=\"b\",label=\"predicted result\")\n",
        "plt.legend()\n",
        "plt.xlabel(\"Time(50 days)\")\n",
        "plt.ylabel(\"Close Values\")\n",
        "plt.grid(True)\n",
        "plt.show()"
      ]
    },
    {
      "cell_type": "markdown",
      "metadata": {
        "_uuid": "76aa7f58212d6a4f3453f33eea23c4fbec6f4c42",
        "id": "24ODF-CYQ97J"
      },
      "source": [
        "* ** Conclusion**\n",
        "\n",
        "When we compare the both results (RNN and LSTM) we can see that we have better prediction with LSTM. \n",
        "\n",
        "Up to here I was trying to show the differences between RNN - LSTM and how to use these methods on time series. \n",
        "\n",
        "If you have any question or I have any error please write me dirctly.\n"
      ]
    }
  ],
  "metadata": {
    "kernelspec": {
      "display_name": "Python 3 (ipykernel)",
      "language": "python",
      "name": "python3"
    },
    "language_info": {
      "codemirror_mode": {
        "name": "ipython",
        "version": 3
      },
      "file_extension": ".py",
      "mimetype": "text/x-python",
      "name": "python",
      "nbconvert_exporter": "python",
      "pygments_lexer": "ipython3",
      "version": "3.9.7"
    },
    "colab": {
      "provenance": []
    }
  },
  "nbformat": 4,
  "nbformat_minor": 0
}